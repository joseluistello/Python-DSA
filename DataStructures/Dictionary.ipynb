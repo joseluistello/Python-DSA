{
 "cells": [
  {
   "cell_type": "markdown",
   "metadata": {},
   "source": [
    "Los dictionarios son una estructura de datos central que almacena un numero arbitrario de objetos, cada uno identificado por una unica llave. Tiene un time complexity de O(1) y es comunmente llamados maps, hashmaps, lookup, tables, o associative arrays. \n",
    "\n",
    "Este tipo de estructura da eficiencia a la hora de insertar, eliminar o buscar cualquier elemento dentro del objeto. \n",
    "\n",
    "[Problemas](https://pynative.com/python-dictionary-exercise-with-solutions/)"
   ]
  },
  {
   "cell_type": "code",
   "execution_count": 7,
   "metadata": {},
   "outputs": [
    {
     "data": {
      "text/plain": [
       "3719"
      ]
     },
     "execution_count": 7,
     "metadata": {},
     "output_type": "execute_result"
    }
   ],
   "source": [
    "# Sintaxis\n",
    "phonebook = {\n",
    "     \"bob\": 7387,\n",
    "     \"alice\": 3719,\n",
    "     \"jack\": 7052,\n",
    "}\n",
    "\n",
    "phonebook[\"alice\"]"
   ]
  },
  {
   "cell_type": "code",
   "execution_count": 4,
   "metadata": {},
   "outputs": [
    {
     "name": "stdout",
     "output_type": "stream",
     "text": [
      "['Gato Loco', 'Chango Loco']\n"
     ]
    }
   ],
   "source": [
    "authors = {\n",
    "    'Martin': [\"Vaca Loca\", \"Perro Loco\"],\n",
    "    'Pedro': [\"Gato Loco\", \"Chango Loco\"],\n",
    "}\n",
    "\n",
    "print(authors['Pedro'])\n",
    "print(authors.get('Pedro'))"
   ]
  },
  {
   "cell_type": "code",
   "execution_count": 6,
   "metadata": {},
   "outputs": [
    {
     "name": "stdout",
     "output_type": "stream",
     "text": [
      "{1: 1, 2: 4, 3: 9, 4: 16, 5: 25}\n"
     ]
    }
   ],
   "source": [
    "# Creando un diccionario con una list comprehension\n",
    "\n",
    "Dictionary = {x: x**2 for x in [1,2,3,4,5]}\n",
    "print(Dictionary)"
   ]
  },
  {
   "cell_type": "code",
   "execution_count": null,
   "metadata": {},
   "outputs": [],
   "source": []
  }
 ],
 "metadata": {
  "kernelspec": {
   "display_name": "Python 3",
   "language": "python",
   "name": "python3"
  },
  "language_info": {
   "codemirror_mode": {
    "name": "ipython",
    "version": 3
   },
   "file_extension": ".py",
   "mimetype": "text/x-python",
   "name": "python",
   "nbconvert_exporter": "python",
   "pygments_lexer": "ipython3",
   "version": "3.8.5"
  }
 },
 "nbformat": 4,
 "nbformat_minor": 4
}
