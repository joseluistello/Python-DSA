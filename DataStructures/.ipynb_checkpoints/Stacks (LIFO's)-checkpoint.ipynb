{
 "cells": [
  {
   "cell_type": "markdown",
   "metadata": {},
   "source": [
    "### Stack - Last-in/First-Out\n",
    "\n",
    "Es una coleccion de objetos que soporta el paradigma LIFO de insertar e liminar\n",
    "\n",
    "A diferencia de las listas de arrays, los stacks no permiten el acceso aleatorio a los objetos que contienen. \n",
    "\n",
    "La operacion de insertar y eliminar son comunmente llamadas **push** and **pop**\n",
    "\n",
    "Una manera de ver a los Stacks es compararlos con un tren. Para alcanzar los ultimos vagones o elementos del stack, debemos remover los primeros uno por uno"
   ]
  },
  {
   "cell_type": "markdown",
   "metadata": {},
   "source": [
    "Esta es una manera de crear un Stack con una lista."
   ]
  },
  {
   "cell_type": "code",
   "execution_count": 2,
   "metadata": {},
   "outputs": [
    {
     "data": {
      "text/plain": [
       "['eat', 'sleep', 'code']"
      ]
     },
     "execution_count": 2,
     "metadata": {},
     "output_type": "execute_result"
    }
   ],
   "source": [
    "s = []\n",
    "s.append(\"eat\")\n",
    "s.append(\"sleep\")\n",
    "s.append(\"code\")\n",
    "s\n",
    "\n",
    "s.pop() # -> Elimina un objeto"
   ]
  },
  {
   "cell_type": "markdown",
   "metadata": {},
   "source": [
    "Esta es otra forma de crear stacks. \n",
    "\n",
    "Implementa un doble queue que soporta el añadir y remover elementos en O(1)."
   ]
  },
  {
   "cell_type": "code",
   "execution_count": 8,
   "metadata": {},
   "outputs": [
    {
     "data": {
      "text/plain": [
       "deque(['eat', 'sleep', 'code'])"
      ]
     },
     "execution_count": 8,
     "metadata": {},
     "output_type": "execute_result"
    }
   ],
   "source": [
    "from collections import deque\n",
    "\n",
    "b = deque()\n",
    "b.append(\"eat\")\n",
    "b.append(\"sleep\")\n",
    "b.append(\"code\")\n",
    "b\n",
    "\n",
    "s.pop() # ->> Elimina code primero (LAST IN, FIRST OUT)"
   ]
  },
  {
   "cell_type": "markdown",
   "metadata": {},
   "source": [
    "Python tiene varias implementaciones para implemenetar un stack. Tienen diferentes caracteristicas y trade-offs.\n",
    "\n",
    "* Si no buscas procesamiento paralelo, escoge una built-in list o el collections.deque\n",
    "\n",
    "Collections.deque es una excelente opcion para implementar un stack (LIFO QUEUE) en Python."
   ]
  }
 ],
 "metadata": {
  "kernelspec": {
   "display_name": "Python 3",
   "language": "python",
   "name": "python3"
  },
  "language_info": {
   "codemirror_mode": {
    "name": "ipython",
    "version": 3
   },
   "file_extension": ".py",
   "mimetype": "text/x-python",
   "name": "python",
   "nbconvert_exporter": "python",
   "pygments_lexer": "ipython3",
   "version": "3.8.5"
  }
 },
 "nbformat": 4,
 "nbformat_minor": 4
}
