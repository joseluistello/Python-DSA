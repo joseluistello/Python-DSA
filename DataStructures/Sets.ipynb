{
 "cells": [
  {
   "cell_type": "markdown",
   "metadata": {},
   "source": [
    "### Sets\n",
    "\n",
    "Un set es conjunto desordenado de objetos que no admite elementos duplicados.\n",
    "\n",
    "Normalmente, los sets se utilizan para comprobar valores, para insertar o eliminar nuevos valores de un set y/o para calcular la unión o la intersección de dos sets.\n",
    "\n",
    "Como los diccionarios, los sets tienen una sintaxis unica en Python."
   ]
  },
  {
   "cell_type": "code",
   "execution_count": 3,
   "metadata": {},
   "outputs": [
    {
     "name": "stdout",
     "output_type": "stream",
     "text": [
      "{'a', 'i', 'e', 'u', 'o'}\n"
     ]
    }
   ],
   "source": [
    "vowels = {\"a\", \"e\", \"i\", \"o\", \"u\", \"u\"}\n",
    "print(vowels) # -> {'a', 'i', 'e', 'u', 'o'}"
   ]
  },
  {
   "cell_type": "code",
   "execution_count": 12,
   "metadata": {},
   "outputs": [],
   "source": [
    "vowels2 = {\"a\", \"c\", \"d\", \"o\"}"
   ]
  },
  {
   "cell_type": "code",
   "execution_count": 14,
   "metadata": {},
   "outputs": [
    {
     "name": "stdout",
     "output_type": "stream",
     "text": [
      "{'a', 'c', 'i', 'd', 'e', 'u', 'o'}\n"
     ]
    }
   ],
   "source": [
    "upvowel = vowels.union(vowels2)\n",
    "print(upvowel)"
   ]
  },
  {
   "cell_type": "markdown",
   "metadata": {},
   "source": [
    "### FrozenSet\n",
    "\n",
    "Este tipo de Set es inmutable. No puedes cambiarlo una vez se a construido. Son objetos estaticos y solo permiten operaciones del tipo query, no insertar ni eliminar. \n",
    "\n",
    "Como son estaticos y hashables, pueden usarse como llaves de dicionarios, algo que no es posible con set regulares."
   ]
  },
  {
   "cell_type": "code",
   "execution_count": 17,
   "metadata": {},
   "outputs": [],
   "source": [
    "inmutable = frozenset({\"a\", \"e\", \"i\"})\n",
    "inmutable.add(\"p\") # -> retorna un error."
   ]
  },
  {
   "cell_type": "code",
   "execution_count": 18,
   "metadata": {},
   "outputs": [
    {
     "data": {
      "text/plain": [
       "'hello'"
      ]
     },
     "execution_count": 18,
     "metadata": {},
     "output_type": "execute_result"
    }
   ],
   "source": [
    "d = { frozenset({1}): \"hello\" }\n",
    "d[frozenset({1})]"
   ]
  }
 ],
 "metadata": {
  "kernelspec": {
   "display_name": "Python 3",
   "language": "python",
   "name": "python3"
  },
  "language_info": {
   "codemirror_mode": {
    "name": "ipython",
    "version": 3
   },
   "file_extension": ".py",
   "mimetype": "text/x-python",
   "name": "python",
   "nbconvert_exporter": "python",
   "pygments_lexer": "ipython3",
   "version": "3.8.5"
  }
 },
 "nbformat": 4,
 "nbformat_minor": 4
}
