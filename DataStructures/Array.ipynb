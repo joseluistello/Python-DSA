{
 "cells": [
  {
   "cell_type": "markdown",
   "metadata": {},
   "source": [
    "### Static Array\n",
    "\n",
    "Es un contenedor que guarda **n** elementos de una forma indexeable dentro de un rango [0, n-1].\n",
    "\n",
    "Indexeable quiere decir que cada elemento en el array puede ser referenciado por un numero.\n",
    "No existe otra manera de acceder a sus elementos si no es por medio de un index. Empiza por 0.\n",
    "\n",
    "Los array dinamicos pueden crecer y encogerse en tamaño. Empiezan por arrays estaticos y crecen y se vuelven dinamicos a medida que añadimos más elementos o eliminamos elementos."
   ]
  },
  {
   "cell_type": "code",
   "execution_count": 4,
   "metadata": {},
   "outputs": [
    {
     "data": {
      "text/plain": [
       "'3'"
      ]
     },
     "execution_count": 4,
     "metadata": {},
     "output_type": "execute_result"
    }
   ],
   "source": [
    "Array = [1, 3, 4]\n",
    "\n",
    "Array[0] # -> Regresa 1\n",
    "Array[0] = '3' # -> Modifica el elemento 1 y lo cambia de 0 a 3\n",
    "del Array[0] # -> Elimina el elemento 3 \n",
    "Array.append('5') Agrega un 5"
   ]
  },
  {
   "cell_type": "code",
   "execution_count": 9,
   "metadata": {},
   "outputs": [
    {
     "name": "stdout",
     "output_type": "stream",
     "text": [
      "0 3\n",
      "1 3\n",
      "2 4\n"
     ]
    }
   ],
   "source": [
    "for i, j in enumerate(Array):\n",
    "    print(i, j)"
   ]
  },
  {
   "cell_type": "markdown",
   "metadata": {},
   "source": [
    "¿Cuando y como usarlo?\n",
    "\n",
    "1. Para guardar y acceder a datos secuenciales\n",
    "2. Guardar objetos temporales\n",
    "3. Usarlos como tablas de busqueda\n",
    "4. Para retornar valores multiples de una funcion\n",
    "\n",
    "Complexity\n",
    "\n",
    "|  | Static Array | Dynamic Array |\n",
    "| ------ | ---- | ---- |\n",
    "| Access | O(1) | O(1) |\n",
    "| Search | O (n) | O(n) |\n",
    "| Insertion | N/A | O(n) |\n",
    "| Appending | N/A | O(1) |\n",
    "| Deletion | N/A | O(n) |"
   ]
  },
  {
   "cell_type": "markdown",
   "metadata": {},
   "source": []
  }
 ],
 "metadata": {
  "kernelspec": {
   "display_name": "Python 3",
   "language": "python",
   "name": "python3"
  },
  "language_info": {
   "codemirror_mode": {
    "name": "ipython",
    "version": 3
   },
   "file_extension": ".py",
   "mimetype": "text/x-python",
   "name": "python",
   "nbconvert_exporter": "python",
   "pygments_lexer": "ipython3",
   "version": "3.8.5"
  }
 },
 "nbformat": 4,
 "nbformat_minor": 4
}
