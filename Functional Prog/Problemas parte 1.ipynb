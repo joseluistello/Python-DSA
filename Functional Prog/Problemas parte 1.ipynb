{
 "cells": [
  {
   "cell_type": "markdown",
   "metadata": {},
   "source": [
    "## Problemas"
   ]
  },
  {
   "cell_type": "markdown",
   "metadata": {},
   "source": [
    "### Problema #1 - Definir una funcion que tome como argumentos dos numeros y devuelva el mayor de ellos\n",
    "#### Approach #1"
   ]
  },
  {
   "cell_type": "code",
   "execution_count": 4,
   "metadata": {},
   "outputs": [
    {
     "name": "stdout",
     "output_type": "stream",
     "text": [
      "3\n"
     ]
    }
   ],
   "source": [
    "Numeros = ('2', '3',)\n",
    "print(max(Numeros))"
   ]
  },
  {
   "cell_type": "markdown",
   "metadata": {},
   "source": [
    "#### Approach #2"
   ]
  },
  {
   "cell_type": "code",
   "execution_count": 5,
   "metadata": {},
   "outputs": [
    {
     "name": "stdout",
     "output_type": "stream",
     "text": [
      "5\n"
     ]
    }
   ],
   "source": [
    "def numeromax(x, y):\n",
    "    if x > y:\n",
    "        return x\n",
    "    else:\n",
    "        return y\n",
    "print(numeromax(4, 5))"
   ]
  },
  {
   "cell_type": "markdown",
   "metadata": {},
   "source": [
    "### Problema #1.2 - Definir una funcion que tome como argumentos tres numeros y devuelva el mayor de ellos"
   ]
  },
  {
   "cell_type": "code",
   "execution_count": 1,
   "metadata": {},
   "outputs": [
    {
     "name": "stdout",
     "output_type": "stream",
     "text": [
      "6\n"
     ]
    }
   ],
   "source": [
    "def numeromaxi(x, y, z):\n",
    "    if x > y and x > z:\n",
    "        return x\n",
    "    elif y > x and y > z:\n",
    "        return y\n",
    "    else:\n",
    "        return z\n",
    "    \n",
    "print(numeromaxi(4, 5, 6))"
   ]
  },
  {
   "cell_type": "markdown",
   "metadata": {},
   "source": [
    "### Problema #2 - Definir una funcion que calcule la longitud de una lista\n",
    "#### Approach #1"
   ]
  },
  {
   "cell_type": "code",
   "execution_count": 6,
   "metadata": {},
   "outputs": [
    {
     "name": "stdout",
     "output_type": "stream",
     "text": [
      "4\n"
     ]
    }
   ],
   "source": [
    "lista = [\"2\", \"3\", \"Perro\", \"Gato\"]\n",
    "\n",
    "print(len(lista))"
   ]
  },
  {
   "cell_type": "markdown",
   "metadata": {},
   "source": [
    "#### Approach #2"
   ]
  },
  {
   "cell_type": "code",
   "execution_count": 2,
   "metadata": {},
   "outputs": [
    {
     "name": "stdout",
     "output_type": "stream",
     "text": [
      "4\n"
     ]
    }
   ],
   "source": [
    "Trabajadores = [\"Pedro\", \"Armando\", \"Alfonso\", \"Jose\"]\n",
    "contador = 0\n",
    "for trabajador in Trabajadores:\n",
    "    contador = contador + 1\n",
    "\n",
    "print(str(contador))"
   ]
  },
  {
   "cell_type": "markdown",
   "metadata": {},
   "source": [
    "#### Approach #3 con funcion gracias a: [1lugarparapensar](https://www.youtube.com/channel/UCrqgz7SfFYV2Y0AnTFYOjCA)"
   ]
  },
  {
   "cell_type": "code",
   "execution_count": 6,
   "metadata": {},
   "outputs": [
    {
     "name": "stdout",
     "output_type": "stream",
     "text": [
      "4\n"
     ]
    }
   ],
   "source": [
    "def longitud_lista(lista):\n",
    "    contador = 0\n",
    "    for elemento in lista:\n",
    "        contador += 1\n",
    "\n",
    "    return contador\n",
    "\n",
    "print(longitud_lista([\"Pedro\", \"Armando\", \"Alfonso\", \"Jose\"]))"
   ]
  },
  {
   "cell_type": "markdown",
   "metadata": {},
   "source": [
    "### Problema #3 - Definir una funcion que tome un caracter y devuelva True si es una vocal, de lo contrario devuelve False."
   ]
  },
  {
   "cell_type": "code",
   "execution_count": 11,
   "metadata": {},
   "outputs": [
    {
     "name": "stdout",
     "output_type": "stream",
     "text": [
      "No es Vocal\n"
     ]
    }
   ],
   "source": [
    "def Vocales(Vocal):\n",
    "    Vocales = [\"a\", \"e\", \"i\", \"o\", \"u\"]\n",
    "    if Vocal in Vocales:\n",
    "        return \"Es Vocal\"\n",
    "    else:\n",
    "        return \"No es Vocal\"\n",
    "    \n",
    "print(Vocales('f'))"
   ]
  },
  {
   "cell_type": "markdown",
   "metadata": {},
   "source": [
    "### Problema #4 - Escribir una función sum() que sume todos los números de una lista. Por ejemplo: sum([1,2,3,4]) debería devolver 10 "
   ]
  },
  {
   "cell_type": "code",
   "execution_count": 15,
   "metadata": {},
   "outputs": [
    {
     "name": "stdout",
     "output_type": "stream",
     "text": [
      "6\n"
     ]
    }
   ],
   "source": [
    "def multi(lista):\n",
    "    total = 1\n",
    "    for elemento in lista:\n",
    "        total = total * elemento\n",
    "    return total\n",
    "\n",
    "print(multi([1, 2, 3]))"
   ]
  },
  {
   "cell_type": "markdown",
   "metadata": {},
   "source": [
    "### Problema #5 Escribir una función multip() que multiplique todos los números de una lista. Por ejemplo:  multip([1,2,3,4]) debería devolver 24."
   ]
  },
  {
   "cell_type": "code",
   "execution_count": 2,
   "metadata": {},
   "outputs": [
    {
     "name": "stdout",
     "output_type": "stream",
     "text": [
      "12\n"
     ]
    }
   ],
   "source": [
    "def multi(lista):\n",
    "    total = 1\n",
    "    for elemento in lista:\n",
    "        total = total * elemento\n",
    "    return total\n",
    "\n",
    "print(multi([2, 3, 2]))"
   ]
  },
  {
   "cell_type": "markdown",
   "metadata": {},
   "source": [
    "### Problema #6 Definir una función inversa() que calcule la inversión de una cadena. Por ejemplo la cadena \"estoy probando\" debería devolver la cadena \"odnaborp yotse\" "
   ]
  },
  {
   "cell_type": "code",
   "execution_count": 1,
   "metadata": {},
   "outputs": [
    {
     "name": "stdout",
     "output_type": "stream",
     "text": [
      "aloh\n"
     ]
    }
   ],
   "source": [
    "def inverso(cadena):\n",
    "    return cadena[::-1]\n",
    "\n",
    "print(inverso('hola'))"
   ]
  },
  {
   "cell_type": "markdown",
   "metadata": {},
   "source": [
    "### Problema #7 Definir una función es_palindromo() que reconoce palíndromos (es decir, palabras que tienen el mismo aspecto escritas invertidas), ejemplo: es_palindromo (\"radar\") tendría que devolver True."
   ]
  },
  {
   "cell_type": "code",
   "execution_count": 9,
   "metadata": {},
   "outputs": [
    {
     "name": "stdout",
     "output_type": "stream",
     "text": [
      "True\n"
     ]
    }
   ],
   "source": [
    "def pali(cadena):\n",
    "    return True if cadena == cadena[::-1] else False\n",
    "\n",
    "print(pali('olo'))"
   ]
  },
  {
   "cell_type": "markdown",
   "metadata": {},
   "source": [
    "### Problema #8 Definir una función superposicion() que tome dos listas y devuelva True si tienen al menos 1 miembro en común o devuelva False de lo contrario. Escribir la función usando el bucle for anidado."
   ]
  },
  {
   "cell_type": "code",
   "execution_count": 2,
   "metadata": {},
   "outputs": [
    {
     "data": {
      "text/plain": [
       "False"
      ]
     },
     "execution_count": 2,
     "metadata": {},
     "output_type": "execute_result"
    }
   ],
   "source": [
    "def superposicion(lista1, lista2):\n",
    "    for elemento in lista1:\n",
    "        if elemento in lista2:\n",
    "            return True\n",
    "        \n",
    "    return False\n",
    "\n",
    "sumadelista([33,2,3,4], [1,5,6,7])"
   ]
  },
  {
   "cell_type": "markdown",
   "metadata": {},
   "source": [
    "https://pythondiario.com/2013/05/ejercicios-en-python-parte-1.html"
   ]
  }
 ],
 "metadata": {
  "kernelspec": {
   "display_name": "Python 3",
   "language": "python",
   "name": "python3"
  },
  "language_info": {
   "codemirror_mode": {
    "name": "ipython",
    "version": 3
   },
   "file_extension": ".py",
   "mimetype": "text/x-python",
   "name": "python",
   "nbconvert_exporter": "python",
   "pygments_lexer": "ipython3",
   "version": "3.8.5"
  }
 },
 "nbformat": 4,
 "nbformat_minor": 4
}
