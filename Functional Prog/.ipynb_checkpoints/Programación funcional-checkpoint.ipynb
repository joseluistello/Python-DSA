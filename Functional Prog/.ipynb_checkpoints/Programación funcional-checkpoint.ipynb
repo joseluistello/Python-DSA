{
 "cells": [
  {
   "cell_type": "markdown",
   "metadata": {},
   "source": [
    "### ¿Que es un paradigma?\n",
    "\n",
    "La palabra paradigma define un estandar que propone un modelo o patron de programación que sirve a una escuela de pensamiento. \n",
    "\n",
    "Estos paradigmas estan hechos de tecnicas de programación que tienen una idea algoritmica cuyo proposito es resolver problemas PARTICULARES. Esto quiere decir que los paradigmas se usan dependiendo el problema al que nos enfrentemos.\n",
    "\n",
    "Los estilos de programación son una forma en que el humano de expresa dentro de un programa computacional, y este estilo esta relacionado con la manera en que escribimos codigo (legible o no legible, con estandares de estilo o sin estandares, con comentarios o sin comentarios)\n",
    "\n",
    "Las culturas de programacion estan estrechamente relacionadas con los lenguajes que se usan en donde se rige esa cultura, estos lenguajes suelen ser influenciados por los paradigmas y las tecnicas de programación. \n",
    "\n",
    "Los principales paradigmas son:\n",
    "- Imperativo \n",
    "- Funcional\n",
    "- Logico \n",
    "- Orientado a objetos\n"
   ]
  },
  {
   "cell_type": "markdown",
   "metadata": {},
   "source": [
    "## La programación funcional\n",
    "\n",
    "El paradigma funcional se construye a través de funciones compuestas. Este paradigma es declarativo lo que significa que esta compuesto de condiciones, proposiciones, afirmaciones, etc. Estas funciones mapean estos valores hacia otros valores.\n",
    "\n",
    "Las funciones son tratadas como [[First-class citizen]], lo que significa que pueden vincularse a nombres (incluidos otros identificadores locales), pasarse como argumentos y devolverse desde otras funciones. Esto permite que los programas sean escritos de manera declarativa y compuesta, donde las pequeñas funciones son combinadas de una manera modular.\n",
    "\n",
    "Una funcion pura es llamada con argumentos que siempre retornan el mismo resultado y que no pueden ser afectadas por efectos laterales o estados mutables. Este approach es un contraste de los procedimientos \"impuros\", comunes en la programacion imperativa la cual puede tener efectos laterales (como modificar el estado de un programa o tomar inputs de un usuario)\n",
    "\n",
    "Los que defienden la programación funcional lo hacen bajo el argumento de que este paradigma restingre los efectos laterales, disminuye los bugs, es mas facil de debugear, testear y que es mas adecuado para verificarse. \n",
    "\n",
    "Evoluciono de los calculos lambda, donde los sistemas eran basados solamente en funciones."
   ]
  },
  {
   "cell_type": "markdown",
   "metadata": {},
   "source": [
    "#### 1. Funciones puras"
   ]
  },
  {
   "cell_type": "code",
   "execution_count": 3,
   "metadata": {},
   "outputs": [
    {
     "name": "stdout",
     "output_type": "stream",
     "text": [
      "1020\n"
     ]
    }
   ],
   "source": [
    "def suma(num1, num2):\n",
    "    return num1 + num2\n",
    "\n",
    "print(suma(1000, 20))"
   ]
  },
  {
   "cell_type": "markdown",
   "metadata": {},
   "source": [
    "#### 2. Composicion de funciones"
   ]
  },
  {
   "cell_type": "code",
   "execution_count": 5,
   "metadata": {},
   "outputs": [
    {
     "name": "stdout",
     "output_type": "stream",
     "text": [
      "25\n"
     ]
    }
   ],
   "source": [
    "def alCuadrado(numero):\n",
    "    return numero * numero\n",
    "\n",
    "def sumaDeCuadrados(num1, num2):\n",
    "    return alCuadrado(num1) + alCuadrado(num2)\n",
    "\n",
    "print(sumaDeCuadrados(3, 4))"
   ]
  },
  {
   "cell_type": "markdown",
   "metadata": {},
   "source": [
    "#### 3. Funciones recursivas"
   ]
  },
  {
   "cell_type": "code",
   "execution_count": 8,
   "metadata": {},
   "outputs": [
    {
     "name": "stdout",
     "output_type": "stream",
     "text": [
      "[2, 4, 6, 8]\n"
     ]
    }
   ],
   "source": [
    "def duplicarLista(lista):\n",
    "    if (len(lista)) == 1:\n",
    "        return [lista[0]*2]\n",
    "    else:\n",
    "        return [lista[0]*2] + duplicarLista(lista[1:])\n",
    "    \n",
    "    \n",
    "mi_lista = [1, 2, 3, 4]\n",
    "print(duplicarLista(mi_lista))"
   ]
  },
  {
   "cell_type": "markdown",
   "metadata": {},
   "source": [
    "#### 4. Funciones de alto orden"
   ]
  },
  {
   "cell_type": "code",
   "execution_count": 13,
   "metadata": {},
   "outputs": [
    {
     "name": "stdout",
     "output_type": "stream",
     "text": [
      "[2, 4, 6, 8]\n"
     ]
    }
   ],
   "source": [
    "def duplicar(numero):\n",
    "    return numero * 2\n",
    "\n",
    "def mapearLista(lista, accion):\n",
    "    if (len(lista) == 1):\n",
    "        return [accion(lista[0])]\n",
    "    else:\n",
    "        return [accion(lista[0])] + mapearLista(lista[1:], accion)\n",
    "    \n",
    "    \n",
    "mi_lista = [1, 2, 3, 4]\n",
    "print(mapearLista(mi_lista, duplicar))"
   ]
  },
  {
   "cell_type": "markdown",
   "metadata": {},
   "source": [
    "Source: \n",
    "1. [Wikipedia](https://en.wikipedia.org/wiki/Functional_programming)\n",
    "2. [Código Morsa](https://www.youtube.com/watch?v=DVhMXarwDoQ&list=PLihI9s9wwCPS-tc6vESwmuC5Qv47sG7rT)"
   ]
  },
  {
   "cell_type": "code",
   "execution_count": null,
   "metadata": {},
   "outputs": [],
   "source": []
  }
 ],
 "metadata": {
  "kernelspec": {
   "display_name": "Python 3",
   "language": "python",
   "name": "python3"
  },
  "language_info": {
   "codemirror_mode": {
    "name": "ipython",
    "version": 3
   },
   "file_extension": ".py",
   "mimetype": "text/x-python",
   "name": "python",
   "nbconvert_exporter": "python",
   "pygments_lexer": "ipython3",
   "version": "3.8.5"
  }
 },
 "nbformat": 4,
 "nbformat_minor": 4
}
