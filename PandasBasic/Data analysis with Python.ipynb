{
 "cells": [
  {
   "cell_type": "code",
   "execution_count": null,
   "metadata": {},
   "outputs": [],
   "source": [
    "import pandas as pd\n",
    "import matplotlib as plt\n",
    "import seaborn as sns"
   ]
  },
  {
   "cell_type": "code",
   "execution_count": 9,
   "metadata": {},
   "outputs": [],
   "source": [
    "df = pd.read_csv('data/Datos.csv')"
   ]
  },
  {
   "cell_type": "markdown",
   "metadata": {},
   "source": [
    "Lo primero que me gustaria hacer es establecer un default para el tamaño de las graficas y las filas que se nos muestran cada vez que llamamos al frame u obtenemos un resultado."
   ]
  },
  {
   "cell_type": "code",
   "execution_count": 10,
   "metadata": {},
   "outputs": [],
   "source": [
    "# Show up 5 rows by default\n",
    "pd.set_option(\"display.max_rows\", 12)\n",
    "\n",
    "# Increase plots size\n",
    "%matplotlib inline\n",
    "plt.rcParams['figure.figsize'] = (12, 10)"
   ]
  },
  {
   "cell_type": "markdown",
   "metadata": {},
   "source": [
    "Despues, quiero observar el tipo de dato y transformar los que sean necesarios."
   ]
  },
  {
   "cell_type": "code",
   "execution_count": 11,
   "metadata": {},
   "outputs": [
    {
     "data": {
      "text/plain": [
       "Orden                int64\n",
       "Fecha               object\n",
       "Medio               object\n",
       "Vendedor            object\n",
       "Plataforma          object\n",
       "Comisión            object\n",
       "Tipo Orden          object\n",
       "Tipo de Cliente     object\n",
       "Sexo                object\n",
       "Categoría           object\n",
       "Producto            object\n",
       "Precio             float64\n",
       "dtype: object"
      ]
     },
     "execution_count": 11,
     "metadata": {},
     "output_type": "execute_result"
    }
   ],
   "source": [
    "df.dtypes"
   ]
  },
  {
   "cell_type": "code",
   "execution_count": 12,
   "metadata": {},
   "outputs": [],
   "source": [
    "df[\"Precio\"] = pd.to_numeric(df[\"Precio\"])"
   ]
  },
  {
   "cell_type": "code",
   "execution_count": 13,
   "metadata": {
    "scrolled": true
   },
   "outputs": [
    {
     "data": {
      "text/html": [
       "<div>\n",
       "<style scoped>\n",
       "    .dataframe tbody tr th:only-of-type {\n",
       "        vertical-align: middle;\n",
       "    }\n",
       "\n",
       "    .dataframe tbody tr th {\n",
       "        vertical-align: top;\n",
       "    }\n",
       "\n",
       "    .dataframe thead th {\n",
       "        text-align: right;\n",
       "    }\n",
       "</style>\n",
       "<table border=\"1\" class=\"dataframe\">\n",
       "  <thead>\n",
       "    <tr style=\"text-align: right;\">\n",
       "      <th></th>\n",
       "      <th>Orden</th>\n",
       "      <th>Fecha</th>\n",
       "      <th>Medio</th>\n",
       "      <th>Vendedor</th>\n",
       "      <th>Plataforma</th>\n",
       "      <th>Comisión</th>\n",
       "      <th>Tipo Orden</th>\n",
       "      <th>Tipo de Cliente</th>\n",
       "      <th>Sexo</th>\n",
       "      <th>Categoría</th>\n",
       "      <th>Producto</th>\n",
       "      <th>Precio</th>\n",
       "    </tr>\n",
       "  </thead>\n",
       "  <tbody>\n",
       "    <tr>\n",
       "      <th>0</th>\n",
       "      <td>1</td>\n",
       "      <td>06/08/2017</td>\n",
       "      <td>Propio</td>\n",
       "      <td>Directo en Tienda</td>\n",
       "      <td>Website</td>\n",
       "      <td>0%</td>\n",
       "      <td>Compra</td>\n",
       "      <td>Repetido</td>\n",
       "      <td>Hombre</td>\n",
       "      <td>Pantalones</td>\n",
       "      <td>Pants de Entrenamiento Reactivo</td>\n",
       "      <td>40.0</td>\n",
       "    </tr>\n",
       "    <tr>\n",
       "      <th>1</th>\n",
       "      <td>1</td>\n",
       "      <td>06/08/2017</td>\n",
       "      <td>Propio</td>\n",
       "      <td>Directo en Tienda</td>\n",
       "      <td>Website</td>\n",
       "      <td>0%</td>\n",
       "      <td>Compra</td>\n",
       "      <td>Repetido</td>\n",
       "      <td>Hombre</td>\n",
       "      <td>Sudaderas y chamarras</td>\n",
       "      <td>Sudadera sin Costuras</td>\n",
       "      <td>50.0</td>\n",
       "    </tr>\n",
       "    <tr>\n",
       "      <th>2</th>\n",
       "      <td>1</td>\n",
       "      <td>06/08/2017</td>\n",
       "      <td>Propio</td>\n",
       "      <td>Directo en Tienda</td>\n",
       "      <td>Website</td>\n",
       "      <td>0%</td>\n",
       "      <td>Compra</td>\n",
       "      <td>Repetido</td>\n",
       "      <td>Mujeres</td>\n",
       "      <td>Leggings</td>\n",
       "      <td>Leggings Ombre</td>\n",
       "      <td>36.0</td>\n",
       "    </tr>\n",
       "    <tr>\n",
       "      <th>3</th>\n",
       "      <td>1</td>\n",
       "      <td>06/08/2017</td>\n",
       "      <td>Propio</td>\n",
       "      <td>Directo en Tienda</td>\n",
       "      <td>Website</td>\n",
       "      <td>0%</td>\n",
       "      <td>Compra</td>\n",
       "      <td>Repetido</td>\n",
       "      <td>Mujeres</td>\n",
       "      <td>Bra deportivo</td>\n",
       "      <td>Bra Vital sin costuras</td>\n",
       "      <td>40.0</td>\n",
       "    </tr>\n",
       "    <tr>\n",
       "      <th>4</th>\n",
       "      <td>1</td>\n",
       "      <td>06/08/2017</td>\n",
       "      <td>Propio</td>\n",
       "      <td>Directo en Tienda</td>\n",
       "      <td>Website</td>\n",
       "      <td>0%</td>\n",
       "      <td>Compra</td>\n",
       "      <td>Repetido</td>\n",
       "      <td>Hombre</td>\n",
       "      <td>Camisetas</td>\n",
       "      <td>Camiseta Heather</td>\n",
       "      <td>50.0</td>\n",
       "    </tr>\n",
       "    <tr>\n",
       "      <th>...</th>\n",
       "      <td>...</td>\n",
       "      <td>...</td>\n",
       "      <td>...</td>\n",
       "      <td>...</td>\n",
       "      <td>...</td>\n",
       "      <td>...</td>\n",
       "      <td>...</td>\n",
       "      <td>...</td>\n",
       "      <td>...</td>\n",
       "      <td>...</td>\n",
       "      <td>...</td>\n",
       "      <td>...</td>\n",
       "    </tr>\n",
       "    <tr>\n",
       "      <th>63216</th>\n",
       "      <td>7500</td>\n",
       "      <td>16/03/2017</td>\n",
       "      <td>Influencer</td>\n",
       "      <td>gypseajain</td>\n",
       "      <td>Youtube</td>\n",
       "      <td>30%</td>\n",
       "      <td>Compra</td>\n",
       "      <td>Repetido</td>\n",
       "      <td>Mujeres</td>\n",
       "      <td>Chamarras y Sudaderas</td>\n",
       "      <td>Sudadera Cross back</td>\n",
       "      <td>46.0</td>\n",
       "    </tr>\n",
       "    <tr>\n",
       "      <th>63217</th>\n",
       "      <td>7500</td>\n",
       "      <td>16/03/2017</td>\n",
       "      <td>Influencer</td>\n",
       "      <td>gypseajain</td>\n",
       "      <td>Youtube</td>\n",
       "      <td>30%</td>\n",
       "      <td>Compra</td>\n",
       "      <td>Repetido</td>\n",
       "      <td>Mujeres</td>\n",
       "      <td>Bra deportivo</td>\n",
       "      <td>Bra sin costuras</td>\n",
       "      <td>38.0</td>\n",
       "    </tr>\n",
       "    <tr>\n",
       "      <th>63218</th>\n",
       "      <td>7500</td>\n",
       "      <td>16/03/2017</td>\n",
       "      <td>Influencer</td>\n",
       "      <td>gypseajain</td>\n",
       "      <td>Youtube</td>\n",
       "      <td>30%</td>\n",
       "      <td>Compra</td>\n",
       "      <td>Repetido</td>\n",
       "      <td>Hombre</td>\n",
       "      <td>Camisetas</td>\n",
       "      <td>Camiseta Living Manga Larga</td>\n",
       "      <td>40.0</td>\n",
       "    </tr>\n",
       "    <tr>\n",
       "      <th>63219</th>\n",
       "      <td>7500</td>\n",
       "      <td>16/03/2017</td>\n",
       "      <td>Influencer</td>\n",
       "      <td>gypseajain</td>\n",
       "      <td>Youtube</td>\n",
       "      <td>30%</td>\n",
       "      <td>Compra</td>\n",
       "      <td>Repetido</td>\n",
       "      <td>Mujeres</td>\n",
       "      <td>Ropa Interior</td>\n",
       "      <td>Calzones Deportivos sin costuras</td>\n",
       "      <td>20.0</td>\n",
       "    </tr>\n",
       "    <tr>\n",
       "      <th>63220</th>\n",
       "      <td>7500</td>\n",
       "      <td>16/03/2017</td>\n",
       "      <td>Influencer</td>\n",
       "      <td>gypseajain</td>\n",
       "      <td>Youtube</td>\n",
       "      <td>30%</td>\n",
       "      <td>Compra</td>\n",
       "      <td>Repetido</td>\n",
       "      <td>Mujeres</td>\n",
       "      <td>Chamarras y Sudaderas</td>\n",
       "      <td>Chamarra impermeable para correr</td>\n",
       "      <td>100.0</td>\n",
       "    </tr>\n",
       "  </tbody>\n",
       "</table>\n",
       "<p>63221 rows × 12 columns</p>\n",
       "</div>"
      ],
      "text/plain": [
       "       Orden       Fecha       Medio           Vendedor Plataforma Comisión  \\\n",
       "0          1  06/08/2017      Propio  Directo en Tienda    Website       0%   \n",
       "1          1  06/08/2017      Propio  Directo en Tienda    Website       0%   \n",
       "2          1  06/08/2017      Propio  Directo en Tienda    Website       0%   \n",
       "3          1  06/08/2017      Propio  Directo en Tienda    Website       0%   \n",
       "4          1  06/08/2017      Propio  Directo en Tienda    Website       0%   \n",
       "...      ...         ...         ...                ...        ...      ...   \n",
       "63216   7500  16/03/2017  Influencer         gypseajain    Youtube      30%   \n",
       "63217   7500  16/03/2017  Influencer         gypseajain    Youtube      30%   \n",
       "63218   7500  16/03/2017  Influencer         gypseajain    Youtube      30%   \n",
       "63219   7500  16/03/2017  Influencer         gypseajain    Youtube      30%   \n",
       "63220   7500  16/03/2017  Influencer         gypseajain    Youtube      30%   \n",
       "\n",
       "      Tipo Orden Tipo de Cliente     Sexo              Categoría  \\\n",
       "0         Compra        Repetido   Hombre             Pantalones   \n",
       "1         Compra        Repetido   Hombre  Sudaderas y chamarras   \n",
       "2         Compra        Repetido  Mujeres               Leggings   \n",
       "3         Compra        Repetido  Mujeres          Bra deportivo   \n",
       "4         Compra        Repetido   Hombre              Camisetas   \n",
       "...          ...             ...      ...                    ...   \n",
       "63216     Compra        Repetido  Mujeres  Chamarras y Sudaderas   \n",
       "63217     Compra        Repetido  Mujeres          Bra deportivo   \n",
       "63218     Compra        Repetido   Hombre              Camisetas   \n",
       "63219     Compra        Repetido  Mujeres          Ropa Interior   \n",
       "63220     Compra        Repetido  Mujeres  Chamarras y Sudaderas   \n",
       "\n",
       "                               Producto  Precio  \n",
       "0       Pants de Entrenamiento Reactivo    40.0  \n",
       "1                 Sudadera sin Costuras    50.0  \n",
       "2                        Leggings Ombre    36.0  \n",
       "3                Bra Vital sin costuras    40.0  \n",
       "4                      Camiseta Heather    50.0  \n",
       "...                                 ...     ...  \n",
       "63216               Sudadera Cross back    46.0  \n",
       "63217                  Bra sin costuras    38.0  \n",
       "63218       Camiseta Living Manga Larga    40.0  \n",
       "63219  Calzones Deportivos sin costuras    20.0  \n",
       "63220  Chamarra impermeable para correr   100.0  \n",
       "\n",
       "[63221 rows x 12 columns]"
      ]
     },
     "execution_count": 13,
     "metadata": {},
     "output_type": "execute_result"
    }
   ],
   "source": [
    "df"
   ]
  },
  {
   "cell_type": "code",
   "execution_count": 14,
   "metadata": {},
   "outputs": [
    {
     "data": {
      "text/plain": [
       "Orden              63221\n",
       "Fecha              63221\n",
       "Medio              63221\n",
       "Vendedor           63221\n",
       "Plataforma         63221\n",
       "Comisión           63221\n",
       "Tipo Orden         63221\n",
       "Tipo de Cliente    63221\n",
       "Sexo               63221\n",
       "Categoría          63221\n",
       "Producto           63221\n",
       "Precio             63221\n",
       "dtype: int64"
      ]
     },
     "execution_count": 14,
     "metadata": {},
     "output_type": "execute_result"
    }
   ],
   "source": [
    "df.count()"
   ]
  },
  {
   "cell_type": "code",
   "execution_count": null,
   "metadata": {},
   "outputs": [],
   "source": [
    "df[\"Precio\"].describe()"
   ]
  },
  {
   "cell_type": "code",
   "execution_count": 101,
   "metadata": {},
   "outputs": [
    {
     "data": {
      "text/plain": [
       "<AxesSubplot:xlabel='Precio', ylabel='Count'>"
      ]
     },
     "execution_count": 101,
     "metadata": {},
     "output_type": "execute_result"
    },
    {
     "data": {
      "image/png": "[encoded data removed]",
      "text/plain": [
       "<Figure size 864x720 with 1 Axes>"
      ]
     },
     "metadata": {
      "needs_background": "light"
     },
     "output_type": "display_data"
    }
   ],
   "source": [
    "sns.histplot(\n",
    "    df, \n",
    "    x=\"Precio\",\n",
    "    linewidth=1, \n",
    "    kde = True)"
   ]
  },
  {
   "cell_type": "code",
   "execution_count": 102,
   "metadata": {},
   "outputs": [
    {
     "data": {
      "text/plain": [
       "Mujeres    35937\n",
       "Hombre     27284\n",
       "Name: Sexo, dtype: int64"
      ]
     },
     "execution_count": 102,
     "metadata": {},
     "output_type": "execute_result"
    }
   ],
   "source": [
    "df[\"Sexo\"].value_counts()"
   ]
  },
  {
   "cell_type": "code",
   "execution_count": 107,
   "metadata": {},
   "outputs": [
    {
     "data": {
      "text/plain": [
       "<AxesSubplot:xlabel='Plataforma', ylabel='Count'>"
      ]
     },
     "execution_count": 107,
     "metadata": {},
     "output_type": "execute_result"
    },
    {
     "data": {
      "image/png": "[encoded data removed]",
      "text/plain": [
       "<Figure size 864x720 with 1 Axes>"
      ]
     },
     "metadata": {
      "needs_background": "light"
     },
     "output_type": "display_data"
    }
   ],
   "source": [
    "sns.histplot(\n",
    "    df, \n",
    "    x=\"Plataforma\",\n",
    "    hue=\"Sexo\",\n",
    "    linewidth=2, \n",
    "    kde = False)"
   ]
  },
  {
   "cell_type": "code",
   "execution_count": 108,
   "metadata": {},
   "outputs": [
    {
     "data": {
      "text/plain": [
       "<seaborn.axisgrid.FacetGrid at 0x19156ccdfa0>"
      ]
     },
     "execution_count": 108,
     "metadata": {},
     "output_type": "execute_result"
    },
    {
     "data": {
      "image/png": "[encoded data removed]",
      "text/plain": [
       "<Figure size 864x432 with 8 Axes>"
      ]
     },
     "metadata": {
      "needs_background": "light"
     },
     "output_type": "display_data"
    }
   ],
   "source": [
    "sns.displot(df, \n",
    "            x=\"Precio\", \n",
    "            col=\"Plataforma\", \n",
    "            row=\"Sexo\", \n",
    "            binwidth=3, \n",
    "            height=3, \n",
    "            facet_kws=dict(margin_titles=True))"
   ]
  },
  {
   "cell_type": "code",
   "execution_count": null,
   "metadata": {},
   "outputs": [],
   "source": []
  }
 ],
 "metadata": {
  "kernelspec": {
   "display_name": "Python 3",
   "language": "python",
   "name": "python3"
  },
  "language_info": {
   "codemirror_mode": {
    "name": "ipython",
    "version": 3
   },
   "file_extension": ".py",
   "mimetype": "text/x-python",
   "name": "python",
   "nbconvert_exporter": "python",
   "pygments_lexer": "ipython3",
   "version": "3.8.5"
  }
 },
 "nbformat": 4,
 "nbformat_minor": 4
}
