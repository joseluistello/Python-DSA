{
 "cells": [
  {
   "cell_type": "markdown",
   "metadata": {},
   "source": [
    "### Group Totals\n",
    "Have the function GroupTotals(strArr) read in the strArr parameter containing key:value pairs where the key is a string and the value is an integer. Your program should return a string with new key:value pairs separated by a comma such that each key appears only once with the total values summed up.\n",
    "\n",
    "For example: if strArr is [\"B:-1\", \"A:1\", \"B:3\", \"A:5\"] then your program should return the string A:6,B:2.\n",
    "\n",
    "Your final output string should return the keys in alphabetical order. Exclude keys that have a value of 0 after being summed up. "
   ]
  },
  {
   "cell_type": "markdown",
   "metadata": {},
   "source": [
    "### Examples\n",
    "\n",
    "- Input: [\"X:-1\", \"Y:1\", \"X:-4\", \"B:3\", \"X:5\"]\n",
    "    - Output: B:3,Y:1\n",
    "- Input: [\"Z:0\", \"A:-1\"]\n",
    "    - Output: A:-1 "
   ]
  },
  {
   "cell_type": "markdown",
   "metadata": {},
   "source": [
    "def GroupTotals(strArr):"
   ]
  },
  {
   "cell_type": "markdown",
   "metadata": {},
   "source": [
    "### Counting Minutes\n",
    "Have the function CountingMinutes(str) take the str parameter being passed which will be two times (each properly formatted with a colon and am or pm) separated by a hyphen and return the total number of minutes between the two times. The time will be in a 12 hour clock format. For example: if str is 9:00am-10:00am then the output should be 60. If str is 1:00pm-11:00am the output should be 1320. \n",
    "\n",
    "### Examples\n",
    "- Input: \"12:30pm-12:00am\"\n",
    "    - Output: 690\n",
    "- Input: \"1:23am-1:08am\"\n",
    "    - Output: 1425 "
   ]
  },
  {
   "cell_type": "markdown",
   "metadata": {},
   "source": [
    "def CountingMinutes(strParam):\n",
    "  \n",
    "  return strParam"
   ]
  },
  {
   "cell_type": "markdown",
   "metadata": {},
   "source": [
    "### Longest Consecutive\n",
    "Have the function LongestConsecutive(arr) take the array of positive integers stored in arr and return the length of the longest consecutive subsequence (LCS). An LCS is a subset of the original list where the numbers are in sorted order, from lowest to highest, and are in a consecutive, increasing order. The sequence does not need to be contiguous and there can be several different subsequences. For example: if arr is [4, 3, 8, 1, 2, 6, 100, 9] then a few consecutive sequences are [1, 2, 3, 4], and [8, 9]. For this input, your program should return 4 because that is the length of the longest consecutive subsequence. "
   ]
  },
  {
   "cell_type": "markdown",
   "metadata": {},
   "source": [
    "- Input: [6, 7, 3, 1, 100, 102, 6, 12]\n",
    "    - Output: 2\n",
    "- Input: [5, 6, 1, 2, 8, 9, 7]\n",
    "    - Output: 5 "
   ]
  },
  {
   "cell_type": "code",
   "execution_count": null,
   "metadata": {},
   "outputs": [],
   "source": []
  }
 ],
 "metadata": {
  "kernelspec": {
   "display_name": "Python 3",
   "language": "python",
   "name": "python3"
  },
  "language_info": {
   "codemirror_mode": {
    "name": "ipython",
    "version": 3
   },
   "file_extension": ".py",
   "mimetype": "text/x-python",
   "name": "python",
   "nbconvert_exporter": "python",
   "pygments_lexer": "ipython3",
   "version": "3.8.5"
  }
 },
 "nbformat": 4,
 "nbformat_minor": 4
}
