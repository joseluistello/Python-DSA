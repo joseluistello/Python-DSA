{
 "cells": [
  {
   "cell_type": "markdown",
   "metadata": {},
   "source": [
    "### Problemas 2\n",
    "\n",
    "[Source](https://www.w3resource.com/python-exercises/python-functions-exercises.php)"
   ]
  },
  {
   "cell_type": "code",
   "execution_count": 5,
   "metadata": {},
   "outputs": [
    {
     "name": "stdout",
     "output_type": "stream",
     "text": [
      "4\n"
     ]
    }
   ],
   "source": [
    "### Write a Python function to find the Max of three numbers.\n",
    "\n",
    "def maximo(a, b, c):\n",
    "    if a > b:\n",
    "        return a\n",
    "    elif b > c:\n",
    "        return b\n",
    "    else:\n",
    "        return c\n",
    "\n",
    "print(maximo(3, 4, 2))"
   ]
  },
  {
   "cell_type": "code",
   "execution_count": 28,
   "metadata": {},
   "outputs": [
    {
     "name": "stdout",
     "output_type": "stream",
     "text": [
      "55555558\n"
     ]
    }
   ],
   "source": [
    "### Write a Python function to sum all the numbers in a list\n",
    "\n",
    "def suma_lista(lista):\n",
    "    Contador = 0\n",
    "    for i in lista:\n",
    "        Contador = (i + Contador)\n",
    "    return Contador\n",
    "\n",
    "print(suma_lista([1, 2, 55555555]))"
   ]
  },
  {
   "cell_type": "code",
   "execution_count": 31,
   "metadata": {},
   "outputs": [
    {
     "name": "stdout",
     "output_type": "stream",
     "text": [
      "6\n"
     ]
    }
   ],
   "source": [
    "###  Write a Python function to multiply all the numbers in a list\n",
    "\n",
    "def multiplicacion(lista):\n",
    "    Contador = 1\n",
    "    for i in lista:\n",
    "        Contador = (i * Contador)\n",
    "    return Contador\n",
    "\n",
    "print(multiplicacion([2, 3]))    "
   ]
  },
  {
   "cell_type": "code",
   "execution_count": 2,
   "metadata": {},
   "outputs": [
    {
     "name": "stdout",
     "output_type": "stream",
     "text": [
      "aloh\n"
     ]
    }
   ],
   "source": [
    "### Write a Python program to reverse a string\n",
    "def reversa(stringg):\n",
    "    return stringg[::-1]\n",
    "\n",
    "print(reversa(\"hola\"))"
   ]
  },
  {
   "cell_type": "code",
   "execution_count": 18,
   "metadata": {},
   "outputs": [
    {
     "name": "stdout",
     "output_type": "stream",
     "text": [
      "6\n"
     ]
    }
   ],
   "source": [
    "### Write a Python function to calculate the factorial of a number (a non-negative integer)\n",
    "\n",
    "def factorial(numero):\n",
    "    if numero == 0:\n",
    "        return 1\n",
    "    else:\n",
    "        return numero * factorial(numero - 1)\n",
    "    return numero\n",
    "\n",
    "print(factorial(3))\n",
    "## (3 * 2) * 1\n",
    "## 6 * 1 \n",
    "## 6"
   ]
  },
  {
   "cell_type": "code",
   "execution_count": null,
   "metadata": {},
   "outputs": [],
   "source": []
  }
 ],
 "metadata": {
  "kernelspec": {
   "display_name": "Python 3",
   "language": "python",
   "name": "python3"
  },
  "language_info": {
   "codemirror_mode": {
    "name": "ipython",
    "version": 3
   },
   "file_extension": ".py",
   "mimetype": "text/x-python",
   "name": "python",
   "nbconvert_exporter": "python",
   "pygments_lexer": "ipython3",
   "version": "3.8.5"
  }
 },
 "nbformat": 4,
 "nbformat_minor": 4
}
