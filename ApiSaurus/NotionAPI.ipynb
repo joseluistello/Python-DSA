{
 "cells": [
  {
   "cell_type": "code",
   "execution_count": 13,
   "metadata": {},
   "outputs": [],
   "source": [
    "import requests \n",
    "import matplotlib.pyplot as plt\n",
    "import json\n",
    "import seaborn as sns"
   ]
  },
  {
   "cell_type": "code",
   "execution_count": 47,
   "metadata": {},
   "outputs": [],
   "source": [
    "token = 'secret_vnUUrSossONM1kuLFA7yaNg32JRBKwdPKtrd72ZT7te'\n",
    "databaseId = 'da698c074a104f82b2527a4e77e99c18'\n",
    "\n",
    "headers = {\n",
    "    \"Accecpt\": \"application/json\",\n",
    "    \"Notion-Version\": \"2022-02-22\",\n",
    "    \"Content-Type\": \"application/json\",\n",
    "    \"Authorization\": \"Bearer \" + token\n",
    "}"
   ]
  },
  {
   "cell_type": "code",
   "execution_count": 48,
   "metadata": {},
   "outputs": [],
   "source": [
    "readUrl = f\"https://api.notion.com/v1/databases/{databaseId}\"\n",
    "    \n",
    "res = requests.request(\"GET\", readUrl, headers=headers)\n",
    "data = res.json()\n"
   ]
  },
  {
   "cell_type": "code",
   "execution_count": 49,
   "metadata": {},
   "outputs": [
    {
     "name": "stdout",
     "output_type": "stream",
     "text": [
      "{'object': 'database', 'id': 'da698c07-4a10-4f82-b252-7a4e77e99c18', 'cover': None, 'icon': {'type': 'emoji', 'emoji': '👞'}, 'created_time': '2022-05-05T03:51:00.000Z', 'created_by': {'object': 'user', 'id': 'a35939ec-6e34-45a9-b6ae-886ee9aaaffc'}, 'last_edited_by': {'object': 'user', 'id': 'a35939ec-6e34-45a9-b6ae-886ee9aaaffc'}, 'last_edited_time': '2022-05-05T04:59:00.000Z', 'title': [{'type': 'text', 'text': {'content': 'CRMPruebas', 'link': None}, 'annotations': {'bold': False, 'italic': False, 'strikethrough': False, 'underline': False, 'code': False, 'color': 'default'}, 'plain_text': 'CRMPruebas', 'href': None}], 'properties': {'Confidence': {'id': '!vrn', 'name': 'Confidence', 'type': 'number', 'number': {'format': 'percent'}}, 'Status': {'id': \"'!~!\", 'name': 'Status', 'type': 'select', 'select': {'options': [{'id': '06740eb8-fdbf-4a3b-8706-d24efa61648b', 'name': 'Lead', 'color': 'pink'}, {'id': '61152337-a809-4a49-97e2-9990fb47a0cb', 'name': 'Contacted', 'color': 'purple'}, {'id': '3496b9f4-719a-4d56-a238-d2a119ac20c5', 'name': 'Proposed 👀', 'color': 'blue'}, {'id': '228d584c-1591-4111-887e-247d9e51551e', 'name': 'Closed 💪', 'color': 'green'}, {'id': 'b2899cd9-b588-40de-bf0b-4cbca18d87a8', 'name': 'Lost', 'color': 'default'}]}}, 'Average seats': {'id': '%3Cm%3Ag', 'name': 'Average seats', 'type': 'number', 'number': {'format': 'number'}}, 'Source': {'id': 'T%7DuA', 'name': 'Source', 'type': 'select', 'select': {'options': [{'id': '338c179f-1b6c-4d74-9e72-2edd5fe78498', 'name': 'Linkedin', 'color': 'red'}, {'id': '143cc8ed-3d89-4eef-8e5c-4fa137606a5a', 'name': 'Facebook', 'color': 'orange'}, {'id': 'ae02839d-3b54-4892-8020-17f91d3c5ce7', 'name': 'Twitter', 'color': 'purple'}]}}, 'Phone': {'id': 'g%7B*%7C', 'name': 'Phone', 'type': 'phone_number', 'phone_number': {}}, 'Estimated Value': {'id': 'vgz0', 'name': 'Estimated Value', 'type': 'number', 'number': {'format': 'dollar'}}, 'High Priority': {'id': 'vrOv', 'name': 'High Priority', 'type': 'checkbox', 'checkbox': {}}, 'Email': {'id': 'yl%40Y', 'name': 'Email', 'type': 'email', 'email': {}}, 'Name': {'id': 'title', 'name': 'Name', 'type': 'title', 'title': {}}, 'Last Contact': {'id': 'prop_1', 'name': 'Last Contact', 'type': 'date', 'date': {}}, 'Company': {'id': 'prop_2', 'name': 'Company', 'type': 'rich_text', 'rich_text': {}}}, 'parent': {'type': 'page_id', 'page_id': 'f1612315-0552-4a49-b1af-b40fcfd53167'}, 'url': 'https://www.notion.so/da698c074a104f82b2527a4e77e99c18', 'archived': False}\n"
     ]
    }
   ],
   "source": [
    "print(data)"
   ]
  },
  {
   "cell_type": "code",
   "execution_count": 42,
   "metadata": {},
   "outputs": [],
   "source": [
    "import pandas as pd\n",
    "df = pd.json_normalize(data)"
   ]
  },
  {
   "cell_type": "code",
   "execution_count": null,
   "metadata": {},
   "outputs": [],
   "source": []
  }
 ],
 "metadata": {
  "kernelspec": {
   "display_name": "Python 3",
   "language": "python",
   "name": "python3"
  },
  "language_info": {
   "codemirror_mode": {
    "name": "ipython",
    "version": 3
   },
   "file_extension": ".py",
   "mimetype": "text/x-python",
   "name": "python",
   "nbconvert_exporter": "python",
   "pygments_lexer": "ipython3",
   "version": "3.8.5"
  }
 },
 "nbformat": 4,
 "nbformat_minor": 4
}
